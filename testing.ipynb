{
 "cells": [
  {
   "attachments": {},
   "cell_type": "markdown",
   "id": "89a37dc6",
   "metadata": {},
   "source": [
    "### Import main"
   ]
  },
  {
   "cell_type": "code",
   "execution_count": 1,
   "id": "827e9fe3",
   "metadata": {},
   "outputs": [],
   "source": [
    "from main import Transaction"
   ]
  },
  {
   "cell_type": "code",
   "execution_count": 2,
   "id": "d0a4c53c",
   "metadata": {},
   "outputs": [],
   "source": [
    "Customer1 = Transaction()"
   ]
  },
  {
   "attachments": {},
   "cell_type": "markdown",
   "id": "25929ce4",
   "metadata": {},
   "source": [
    "### 1. Add Item"
   ]
  },
  {
   "cell_type": "code",
   "execution_count": 3,
   "id": "9a348e78",
   "metadata": {},
   "outputs": [
    {
     "name": "stdout",
     "output_type": "stream",
     "text": [
      "Item yang dibeli adalah Bakso sebanyak 2 dengan harga Rp 12000 \n",
      "\n",
      "  Nama Item  Qty  Harga per item  Total harga item\n",
      "1     Bakso    2           12000             24000\n"
     ]
    }
   ],
   "source": [
    "Customer1.add_item(\"Bakso\", 2, 12000)"
   ]
  },
  {
   "cell_type": "code",
   "execution_count": 4,
   "id": "5c0897fa",
   "metadata": {},
   "outputs": [
    {
     "name": "stdout",
     "output_type": "stream",
     "text": [
      "Item yang dibeli adalah Mie Ayam sebanyak 3 dengan harga Rp 10000 \n",
      "\n",
      "  Nama Item  Qty  Harga per item  Total harga item\n",
      "1     Bakso    2           12000             24000\n",
      "2  Mie Ayam    3           10000             30000\n"
     ]
    }
   ],
   "source": [
    "Customer1.add_item(\"Mie Ayam\", 3, 10000)"
   ]
  },
  {
   "attachments": {},
   "cell_type": "markdown",
   "id": "4186aa69",
   "metadata": {},
   "source": [
    "### 2. Delete Item"
   ]
  },
  {
   "cell_type": "code",
   "execution_count": 5,
   "id": "ac5ae4a8",
   "metadata": {},
   "outputs": [
    {
     "name": "stdout",
     "output_type": "stream",
     "text": [
      "  Nama Item  Qty  Harga per item  Total harga item\n",
      "1  Mie Ayam    3           10000             30000\n"
     ]
    }
   ],
   "source": [
    "Customer1.delete_item(\"Bakso\")"
   ]
  },
  {
   "attachments": {},
   "cell_type": "markdown",
   "id": "a93fc6d4",
   "metadata": {},
   "source": [
    "### 3. Reset Transaction"
   ]
  },
  {
   "cell_type": "code",
   "execution_count": 6,
   "id": "a52988cd",
   "metadata": {},
   "outputs": [
    {
     "name": "stdout",
     "output_type": "stream",
     "text": [
      "Semua item berhasil didelete!\n"
     ]
    }
   ],
   "source": [
    "Customer1.reset_transaction()"
   ]
  },
  {
   "attachments": {},
   "cell_type": "markdown",
   "id": "4a6d1b4b",
   "metadata": {},
   "source": [
    "### 4. Print List Total Price"
   ]
  },
  {
   "cell_type": "code",
   "execution_count": 7,
   "id": "e2a543f9",
   "metadata": {},
   "outputs": [
    {
     "name": "stdout",
     "output_type": "stream",
     "text": [
      "Empty DataFrame\n",
      "Columns: [Nama Item, Qty, Harga per item, Total harga item]\n",
      "Index: []\n",
      "\n",
      "HARGA: Rp 0\n",
      "DISKON: 0%\n",
      "TOTAL: Rp 0.0\n"
     ]
    }
   ],
   "source": [
    "Customer1.total_price_print()"
   ]
  },
  {
   "cell_type": "code",
   "execution_count": 8,
   "id": "4b4ba14a",
   "metadata": {},
   "outputs": [
    {
     "name": "stdout",
     "output_type": "stream",
     "text": [
      "Item yang dibeli adalah Bakso sebanyak 2 dengan harga Rp 12000 \n",
      "\n",
      "  Nama Item  Qty  Harga per item  Total harga item\n",
      "1     Bakso    2           12000             24000\n",
      "Item yang dibeli adalah Mie Ayam sebanyak 3 dengan harga Rp 10000 \n",
      "\n",
      "  Nama Item  Qty  Harga per item  Total harga item\n",
      "1     Bakso    2           12000             24000\n",
      "2  Mie Ayam    3           10000             30000\n",
      "Item yang dibeli adalah Steak sebanyak 3 dengan harga Rp 100000 \n",
      "\n",
      "  Nama Item  Qty  Harga per item  Total harga item\n",
      "1     Bakso    2           12000             24000\n",
      "2  Mie Ayam    3           10000             30000\n",
      "3     Steak    3          100000            300000\n"
     ]
    }
   ],
   "source": [
    "Customer1.add_item(\"Bakso\", 2, 12000)\n",
    "Customer1.add_item(\"Mie Ayam\", 3, 10000)\n",
    "Customer1.add_item(\"Steak\", 3, 100000)"
   ]
  },
  {
   "cell_type": "code",
   "execution_count": 9,
   "id": "69c8254a",
   "metadata": {},
   "outputs": [
    {
     "name": "stdout",
     "output_type": "stream",
     "text": [
      "  Nama Item  Qty  Harga per item  Total harga item\n",
      "1     Bakso    2           12000             24000\n",
      "2  Mie Ayam    3           10000             30000\n",
      "3     Steak    3          100000            300000\n",
      "\n",
      "HARGA: Rp 354000\n",
      "DISKON: 8%\n",
      "TOTAL: Rp 325680.0\n"
     ]
    }
   ],
   "source": [
    "Customer1.total_price_print()"
   ]
  },
  {
   "attachments": {},
   "cell_type": "markdown",
   "id": "e8142a49",
   "metadata": {},
   "source": [
    "### 5. Update Item Name"
   ]
  },
  {
   "cell_type": "code",
   "execution_count": 10,
   "id": "d7299101",
   "metadata": {},
   "outputs": [
    {
     "name": "stdout",
     "output_type": "stream",
     "text": [
      "  Nama Item  Qty  Harga per item  Total harga item\n",
      "1  Mie Ayam    3           10000             30000\n",
      "2     Steak    3          100000            300000\n",
      "3      Soto    2           12000             24000\n"
     ]
    }
   ],
   "source": [
    "Customer1.update_item_name(\"Bakso\", \"Soto\")"
   ]
  },
  {
   "attachments": {},
   "cell_type": "markdown",
   "id": "906601c1",
   "metadata": {},
   "source": [
    "### 6. Update Item Quantity"
   ]
  },
  {
   "cell_type": "code",
   "execution_count": 11,
   "id": "36bf0a6f",
   "metadata": {},
   "outputs": [
    {
     "name": "stdout",
     "output_type": "stream",
     "text": [
      "  Nama Item  Qty  Harga per item  Total harga item\n",
      "1  Mie Ayam    3           10000             30000\n",
      "2     Steak    2          100000            200000\n",
      "3      Soto    2           12000             24000\n"
     ]
    }
   ],
   "source": [
    "Customer1.update_item_qty(\"Steak\", 2)"
   ]
  },
  {
   "attachments": {},
   "cell_type": "markdown",
   "id": "280d5aea",
   "metadata": {},
   "source": [
    "### 7. Update Item Price"
   ]
  },
  {
   "cell_type": "code",
   "execution_count": 12,
   "id": "3a4ee4e0",
   "metadata": {},
   "outputs": [
    {
     "name": "stdout",
     "output_type": "stream",
     "text": [
      "  Nama Item  Qty  Harga per item  Total harga item\n",
      "1  Mie Ayam    3           10000             30000\n",
      "2     Steak    2          150000            300000\n",
      "3      Soto    2           12000             24000\n"
     ]
    }
   ],
   "source": [
    "Customer1.update_item_price(\"Steak\", 150000)"
   ]
  },
  {
   "attachments": {},
   "cell_type": "markdown",
   "id": "23cdc12b",
   "metadata": {},
   "source": [
    "### 8. Validation before add item"
   ]
  },
  {
   "cell_type": "code",
   "execution_count": 13,
   "id": "7cbcea96",
   "metadata": {},
   "outputs": [
    {
     "name": "stdout",
     "output_type": "stream",
     "text": [
      "Nama item harus berupa string!\n"
     ]
    }
   ],
   "source": [
    "Customer1.add_item(12, 3, 10000)"
   ]
  },
  {
   "cell_type": "code",
   "execution_count": 14,
   "id": "80516e07",
   "metadata": {},
   "outputs": [
    {
     "name": "stdout",
     "output_type": "stream",
     "text": [
      "Qty harus berupa angka!\n"
     ]
    }
   ],
   "source": [
    "Customer1.add_item('Ayam Goreng', '3', 10000)"
   ]
  },
  {
   "cell_type": "code",
   "execution_count": 15,
   "id": "c22e8481",
   "metadata": {},
   "outputs": [
    {
     "name": "stdout",
     "output_type": "stream",
     "text": [
      "Harga item harus berupa angka!\n"
     ]
    }
   ],
   "source": [
    "Customer1.add_item('Ayam Goreng', 3, '10000')"
   ]
  },
  {
   "cell_type": "code",
   "execution_count": 16,
   "id": "c0e42c3f",
   "metadata": {},
   "outputs": [
    {
     "name": "stdout",
     "output_type": "stream",
     "text": [
      "Qty tidak boleh negatif atau 0!\n"
     ]
    }
   ],
   "source": [
    "Customer1.add_item('Ayam Goreng', -2, 10000)"
   ]
  },
  {
   "cell_type": "code",
   "execution_count": 17,
   "id": "971e4b25",
   "metadata": {},
   "outputs": [
    {
     "name": "stdout",
     "output_type": "stream",
     "text": [
      "Harga item tidak boleh negatif!\n"
     ]
    }
   ],
   "source": [
    "Customer1.add_item('Ayam Goreng', 2, -10000)"
   ]
  },
  {
   "attachments": {},
   "cell_type": "markdown",
   "id": "42287df9",
   "metadata": {},
   "source": [
    "### 9. Validation before change item name"
   ]
  },
  {
   "cell_type": "code",
   "execution_count": 18,
   "id": "a32249f2",
   "metadata": {},
   "outputs": [
    {
     "name": "stdout",
     "output_type": "stream",
     "text": [
      "  Nama Item  Qty  Harga per item  Total harga item\n",
      "1  Mie Ayam    3           10000             30000\n",
      "2     Steak    2          150000            300000\n",
      "3      Soto    2           12000             24000\n"
     ]
    }
   ],
   "source": [
    "Customer1.check_order()"
   ]
  },
  {
   "cell_type": "code",
   "execution_count": 19,
   "id": "c43017f6",
   "metadata": {},
   "outputs": [
    {
     "name": "stdout",
     "output_type": "stream",
     "text": [
      "Nama item baru harus berupa string!\n"
     ]
    }
   ],
   "source": [
    "Customer1.update_item_name(\"Steak\", 1)"
   ]
  },
  {
   "cell_type": "code",
   "execution_count": 20,
   "id": "38964842",
   "metadata": {},
   "outputs": [
    {
     "name": "stdout",
     "output_type": "stream",
     "text": [
      "Nama item harus berupa string!\n"
     ]
    }
   ],
   "source": [
    "Customer1.update_item_name(1, \"Steak\")"
   ]
  },
  {
   "attachments": {},
   "cell_type": "markdown",
   "id": "28ca1077",
   "metadata": {},
   "source": [
    "### 10. Validation before change item qty "
   ]
  },
  {
   "cell_type": "code",
   "execution_count": 21,
   "id": "4bbd9b67",
   "metadata": {},
   "outputs": [
    {
     "name": "stdout",
     "output_type": "stream",
     "text": [
      "  Nama Item  Qty  Harga per item  Total harga item\n",
      "1  Mie Ayam    3           10000             30000\n",
      "2     Steak    2          150000            300000\n",
      "3      Soto    2           12000             24000\n"
     ]
    }
   ],
   "source": [
    "Customer1.check_order()"
   ]
  },
  {
   "cell_type": "code",
   "execution_count": 22,
   "id": "9edc2270",
   "metadata": {},
   "outputs": [
    {
     "name": "stdout",
     "output_type": "stream",
     "text": [
      "Qty baru harus berupa angka!\n"
     ]
    }
   ],
   "source": [
    "Customer1.update_item_qty('Steak', '3')"
   ]
  },
  {
   "attachments": {},
   "cell_type": "markdown",
   "id": "10ca1d1e",
   "metadata": {},
   "source": [
    "### 11. Validation before change item price"
   ]
  },
  {
   "cell_type": "code",
   "execution_count": 23,
   "id": "c7c50868",
   "metadata": {},
   "outputs": [
    {
     "name": "stdout",
     "output_type": "stream",
     "text": [
      "  Nama Item  Qty  Harga per item  Total harga item\n",
      "1  Mie Ayam    3           10000             30000\n",
      "2     Steak    2          150000            300000\n",
      "3      Soto    2           12000             24000\n"
     ]
    }
   ],
   "source": [
    "Customer1.check_order()"
   ]
  },
  {
   "cell_type": "code",
   "execution_count": 24,
   "id": "8241f08a",
   "metadata": {},
   "outputs": [
    {
     "name": "stdout",
     "output_type": "stream",
     "text": [
      "Harga item baru harus berupa angka!\n"
     ]
    }
   ],
   "source": [
    "Customer1.update_item_price('Steak', '50000')"
   ]
  }
 ],
 "metadata": {
  "kernelspec": {
   "display_name": "base",
   "language": "python",
   "name": "python3"
  },
  "language_info": {
   "codemirror_mode": {
    "name": "ipython",
    "version": 3
   },
   "file_extension": ".py",
   "mimetype": "text/x-python",
   "name": "python",
   "nbconvert_exporter": "python",
   "pygments_lexer": "ipython3",
   "version": "3.9.12"
  },
  "vscode": {
   "interpreter": {
    "hash": "38cbdbe4c206cfadfd206d01256502e3ef24a9225394cc7226a39b708fbc0b15"
   }
  }
 },
 "nbformat": 4,
 "nbformat_minor": 5
}
